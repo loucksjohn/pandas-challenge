{
 "cells": [
  {
   "cell_type": "code",
   "execution_count": 15,
   "metadata": {},
   "outputs": [],
   "source": [
    "import pandas as pd\n",
    "import numpy as np"
   ]
  },
  {
   "cell_type": "code",
   "execution_count": 16,
   "metadata": {},
   "outputs": [],
   "source": [
    "purch_data_csv = \"../Resources/purchase_data.csv\""
   ]
  },
  {
   "cell_type": "code",
   "execution_count": 17,
   "metadata": {},
   "outputs": [],
   "source": [
    "purch_data_df = pd.read_csv(purch_data_csv)"
   ]
  },
  {
   "cell_type": "code",
   "execution_count": 18,
   "metadata": {},
   "outputs": [
    {
     "data": {
      "text/html": [
       "<div>\n",
       "<style scoped>\n",
       "    .dataframe tbody tr th:only-of-type {\n",
       "        vertical-align: middle;\n",
       "    }\n",
       "\n",
       "    .dataframe tbody tr th {\n",
       "        vertical-align: top;\n",
       "    }\n",
       "\n",
       "    .dataframe thead th {\n",
       "        text-align: right;\n",
       "    }\n",
       "</style>\n",
       "<table border=\"1\" class=\"dataframe\">\n",
       "  <thead>\n",
       "    <tr style=\"text-align: right;\">\n",
       "      <th></th>\n",
       "      <th>Purchase ID</th>\n",
       "      <th>SN</th>\n",
       "      <th>Age</th>\n",
       "      <th>Gender</th>\n",
       "      <th>Item ID</th>\n",
       "      <th>Item Name</th>\n",
       "      <th>Price</th>\n",
       "    </tr>\n",
       "  </thead>\n",
       "  <tbody>\n",
       "    <tr>\n",
       "      <th>0</th>\n",
       "      <td>0</td>\n",
       "      <td>Lisim78</td>\n",
       "      <td>20</td>\n",
       "      <td>Male</td>\n",
       "      <td>108</td>\n",
       "      <td>Extraction, Quickblade Of Trembling Hands</td>\n",
       "      <td>3.53</td>\n",
       "    </tr>\n",
       "    <tr>\n",
       "      <th>1</th>\n",
       "      <td>1</td>\n",
       "      <td>Lisovynya38</td>\n",
       "      <td>40</td>\n",
       "      <td>Male</td>\n",
       "      <td>143</td>\n",
       "      <td>Frenzied Scimitar</td>\n",
       "      <td>1.56</td>\n",
       "    </tr>\n",
       "    <tr>\n",
       "      <th>2</th>\n",
       "      <td>2</td>\n",
       "      <td>Ithergue48</td>\n",
       "      <td>24</td>\n",
       "      <td>Male</td>\n",
       "      <td>92</td>\n",
       "      <td>Final Critic</td>\n",
       "      <td>4.88</td>\n",
       "    </tr>\n",
       "    <tr>\n",
       "      <th>3</th>\n",
       "      <td>3</td>\n",
       "      <td>Chamassasya86</td>\n",
       "      <td>24</td>\n",
       "      <td>Male</td>\n",
       "      <td>100</td>\n",
       "      <td>Blindscythe</td>\n",
       "      <td>3.27</td>\n",
       "    </tr>\n",
       "    <tr>\n",
       "      <th>4</th>\n",
       "      <td>4</td>\n",
       "      <td>Iskosia90</td>\n",
       "      <td>23</td>\n",
       "      <td>Male</td>\n",
       "      <td>131</td>\n",
       "      <td>Fury</td>\n",
       "      <td>1.44</td>\n",
       "    </tr>\n",
       "    <tr>\n",
       "      <th>5</th>\n",
       "      <td>5</td>\n",
       "      <td>Yalae81</td>\n",
       "      <td>22</td>\n",
       "      <td>Male</td>\n",
       "      <td>81</td>\n",
       "      <td>Dreamkiss</td>\n",
       "      <td>3.61</td>\n",
       "    </tr>\n",
       "    <tr>\n",
       "      <th>6</th>\n",
       "      <td>6</td>\n",
       "      <td>Itheria73</td>\n",
       "      <td>36</td>\n",
       "      <td>Male</td>\n",
       "      <td>169</td>\n",
       "      <td>Interrogator, Blood Blade of the Queen</td>\n",
       "      <td>2.18</td>\n",
       "    </tr>\n",
       "    <tr>\n",
       "      <th>7</th>\n",
       "      <td>7</td>\n",
       "      <td>Iskjaskst81</td>\n",
       "      <td>20</td>\n",
       "      <td>Male</td>\n",
       "      <td>162</td>\n",
       "      <td>Abyssal Shard</td>\n",
       "      <td>2.67</td>\n",
       "    </tr>\n",
       "    <tr>\n",
       "      <th>8</th>\n",
       "      <td>8</td>\n",
       "      <td>Undjask33</td>\n",
       "      <td>22</td>\n",
       "      <td>Male</td>\n",
       "      <td>21</td>\n",
       "      <td>Souleater</td>\n",
       "      <td>1.10</td>\n",
       "    </tr>\n",
       "    <tr>\n",
       "      <th>9</th>\n",
       "      <td>9</td>\n",
       "      <td>Chanosian48</td>\n",
       "      <td>35</td>\n",
       "      <td>Other / Non-Disclosed</td>\n",
       "      <td>136</td>\n",
       "      <td>Ghastly Adamantite Protector</td>\n",
       "      <td>3.58</td>\n",
       "    </tr>\n",
       "  </tbody>\n",
       "</table>\n",
       "</div>"
      ],
      "text/plain": [
       "   Purchase ID             SN  Age                 Gender  Item ID  \\\n",
       "0            0        Lisim78   20                   Male      108   \n",
       "1            1    Lisovynya38   40                   Male      143   \n",
       "2            2     Ithergue48   24                   Male       92   \n",
       "3            3  Chamassasya86   24                   Male      100   \n",
       "4            4      Iskosia90   23                   Male      131   \n",
       "5            5        Yalae81   22                   Male       81   \n",
       "6            6      Itheria73   36                   Male      169   \n",
       "7            7    Iskjaskst81   20                   Male      162   \n",
       "8            8      Undjask33   22                   Male       21   \n",
       "9            9    Chanosian48   35  Other / Non-Disclosed      136   \n",
       "\n",
       "                                   Item Name  Price  \n",
       "0  Extraction, Quickblade Of Trembling Hands   3.53  \n",
       "1                          Frenzied Scimitar   1.56  \n",
       "2                               Final Critic   4.88  \n",
       "3                                Blindscythe   3.27  \n",
       "4                                       Fury   1.44  \n",
       "5                                  Dreamkiss   3.61  \n",
       "6     Interrogator, Blood Blade of the Queen   2.18  \n",
       "7                              Abyssal Shard   2.67  \n",
       "8                                  Souleater   1.10  \n",
       "9               Ghastly Adamantite Protector   3.58  "
      ]
     },
     "execution_count": 18,
     "metadata": {},
     "output_type": "execute_result"
    }
   ],
   "source": [
    "purch_data_df.head(10)"
   ]
  },
  {
   "cell_type": "code",
   "execution_count": 19,
   "metadata": {},
   "outputs": [],
   "source": [
    "#purch_data_df.dtypes"
   ]
  },
  {
   "cell_type": "code",
   "execution_count": 20,
   "metadata": {},
   "outputs": [
    {
     "data": {
      "text/html": [
       "<div>\n",
       "<style scoped>\n",
       "    .dataframe tbody tr th:only-of-type {\n",
       "        vertical-align: middle;\n",
       "    }\n",
       "\n",
       "    .dataframe tbody tr th {\n",
       "        vertical-align: top;\n",
       "    }\n",
       "\n",
       "    .dataframe thead th {\n",
       "        text-align: right;\n",
       "    }\n",
       "</style>\n",
       "<table border=\"1\" class=\"dataframe\">\n",
       "  <thead>\n",
       "    <tr style=\"text-align: right;\">\n",
       "      <th></th>\n",
       "      <th>Total Players</th>\n",
       "    </tr>\n",
       "  </thead>\n",
       "  <tbody>\n",
       "    <tr>\n",
       "      <th>0</th>\n",
       "      <td>576</td>\n",
       "    </tr>\n",
       "  </tbody>\n",
       "</table>\n",
       "</div>"
      ],
      "text/plain": [
       "   Total Players\n",
       "0            576"
      ]
     },
     "execution_count": 20,
     "metadata": {},
     "output_type": "execute_result"
    }
   ],
   "source": [
    "player_count = purch_data_df[\"SN\"].nunique()\n",
    "pd.DataFrame({\"Total Players\":[player_count]})"
   ]
  },
  {
   "cell_type": "code",
   "execution_count": 21,
   "metadata": {},
   "outputs": [
    {
     "data": {
      "text/html": [
       "<style  type=\"text/css\" >\n",
       "</style><table id=\"T_511dc5b0_ea62_11ea_b791_e82aea77b946\" ><thead>    <tr>        <th class=\"blank level0\" ></th>        <th class=\"col_heading level0 col0\" >Number of Unique Items</th>        <th class=\"col_heading level0 col1\" >Average Price</th>        <th class=\"col_heading level0 col2\" >Number of Purchases</th>        <th class=\"col_heading level0 col3\" >Total Revenue</th>    </tr></thead><tbody>\n",
       "                <tr>\n",
       "                        <th id=\"T_511dc5b0_ea62_11ea_b791_e82aea77b946level0_row0\" class=\"row_heading level0 row0\" >0</th>\n",
       "                        <td id=\"T_511dc5b0_ea62_11ea_b791_e82aea77b946row0_col0\" class=\"data row0 col0\" >179</td>\n",
       "                        <td id=\"T_511dc5b0_ea62_11ea_b791_e82aea77b946row0_col1\" class=\"data row0 col1\" >$3.05</td>\n",
       "                        <td id=\"T_511dc5b0_ea62_11ea_b791_e82aea77b946row0_col2\" class=\"data row0 col2\" >780</td>\n",
       "                        <td id=\"T_511dc5b0_ea62_11ea_b791_e82aea77b946row0_col3\" class=\"data row0 col3\" >$2,379.77</td>\n",
       "            </tr>\n",
       "    </tbody></table>"
      ],
      "text/plain": [
       "<pandas.io.formats.style.Styler at 0x1cc204cf668>"
      ]
     },
     "execution_count": 21,
     "metadata": {},
     "output_type": "execute_result"
    }
   ],
   "source": [
    "#Puchasing Analysis (Total)\n",
    "    #number of unique items (.unique)\n",
    "unique = purch_data_df[\"Item ID\"].nunique()\n",
    "    #average purchase price (sum price column and divide by total count)\n",
    "avg_price = purch_data_df[\"Price\"].mean()\n",
    "    #total number of purchases\n",
    "purchase_count = purch_data_df[\"Purchase ID\"].count()\n",
    "    #Total Revenue\n",
    "revenue = purch_data_df[\"Price\"].sum()\n",
    "purch_analysis_df = pd.DataFrame({\"Number of Unique Items\":[unique], \"Average Price\": [avg_price], \"Number of Purchases\": [purchase_count], \"Total Revenue\": [revenue]})\n",
    "purch_analysis_df.style.format({\"Average Price\": \"${:,.2f}\", \"Total Revenue\":\"${:,.2f}\"})\n"
   ]
  },
  {
   "cell_type": "code",
   "execution_count": 22,
   "metadata": {},
   "outputs": [
    {
     "data": {
      "text/html": [
       "<style  type=\"text/css\" >\n",
       "</style><table id=\"T_51236a28_ea62_11ea_914f_e82aea77b946\" ><thead>    <tr>        <th class=\"blank level0\" ></th>        <th class=\"col_heading level0 col0\" >Gender Count</th>        <th class=\"col_heading level0 col1\" >Percent of Total</th>    </tr>    <tr>        <th class=\"index_name level0\" >Gender</th>        <th class=\"blank\" ></th>        <th class=\"blank\" ></th>    </tr></thead><tbody>\n",
       "                <tr>\n",
       "                        <th id=\"T_51236a28_ea62_11ea_914f_e82aea77b946level0_row0\" class=\"row_heading level0 row0\" >Male</th>\n",
       "                        <td id=\"T_51236a28_ea62_11ea_914f_e82aea77b946row0_col0\" class=\"data row0 col0\" >484</td>\n",
       "                        <td id=\"T_51236a28_ea62_11ea_914f_e82aea77b946row0_col1\" class=\"data row0 col1\" >84.03%</td>\n",
       "            </tr>\n",
       "            <tr>\n",
       "                        <th id=\"T_51236a28_ea62_11ea_914f_e82aea77b946level0_row1\" class=\"row_heading level0 row1\" >Female</th>\n",
       "                        <td id=\"T_51236a28_ea62_11ea_914f_e82aea77b946row1_col0\" class=\"data row1 col0\" >81</td>\n",
       "                        <td id=\"T_51236a28_ea62_11ea_914f_e82aea77b946row1_col1\" class=\"data row1 col1\" >14.06%</td>\n",
       "            </tr>\n",
       "            <tr>\n",
       "                        <th id=\"T_51236a28_ea62_11ea_914f_e82aea77b946level0_row2\" class=\"row_heading level0 row2\" >Other / Non-Disclosed</th>\n",
       "                        <td id=\"T_51236a28_ea62_11ea_914f_e82aea77b946row2_col0\" class=\"data row2 col0\" >11</td>\n",
       "                        <td id=\"T_51236a28_ea62_11ea_914f_e82aea77b946row2_col1\" class=\"data row2 col1\" >1.91%</td>\n",
       "            </tr>\n",
       "    </tbody></table>"
      ],
      "text/plain": [
       "<pandas.io.formats.style.Styler at 0x1cc1f4ca5f8>"
      ]
     },
     "execution_count": 22,
     "metadata": {},
     "output_type": "execute_result"
    }
   ],
   "source": [
    "#Gender Demographics\n",
    "gender_gby = purch_data_df.groupby([\"Gender\"])\n",
    "gender=gender_gby[\"SN\"].nunique()\n",
    "gender\n",
    "gender_pct = (gender/player_count)\n",
    "gender_counts = pd.DataFrame({\"Gender Count\":gender, \"Percent of Total\":gender_pct})\n",
    "gender_counts = gender_counts.sort_values(\"Gender Count\",ascending=False)\n",
    "gender_counts.style.format({\"Percent of Total\": \"{:,.2%}\"})\n",
    "#gender_gby.head()"
   ]
  },
  {
   "cell_type": "code",
   "execution_count": 23,
   "metadata": {},
   "outputs": [
    {
     "data": {
      "text/html": [
       "<style  type=\"text/css\" >\n",
       "</style><table id=\"T_512c6988_ea62_11ea_b709_e82aea77b946\" ><thead>    <tr>        <th class=\"blank level0\" ></th>        <th class=\"col_heading level0 col0\" >Purchase Count</th>        <th class=\"col_heading level0 col1\" >Average Purchase Price</th>        <th class=\"col_heading level0 col2\" >Total Purchase Value</th>        <th class=\"col_heading level0 col3\" >AvgTotal Purchase per Person</th>    </tr>    <tr>        <th class=\"index_name level0\" >Gender</th>        <th class=\"blank\" ></th>        <th class=\"blank\" ></th>        <th class=\"blank\" ></th>        <th class=\"blank\" ></th>    </tr></thead><tbody>\n",
       "                <tr>\n",
       "                        <th id=\"T_512c6988_ea62_11ea_b709_e82aea77b946level0_row0\" class=\"row_heading level0 row0\" >Female</th>\n",
       "                        <td id=\"T_512c6988_ea62_11ea_b709_e82aea77b946row0_col0\" class=\"data row0 col0\" >113</td>\n",
       "                        <td id=\"T_512c6988_ea62_11ea_b709_e82aea77b946row0_col1\" class=\"data row0 col1\" >$3.20</td>\n",
       "                        <td id=\"T_512c6988_ea62_11ea_b709_e82aea77b946row0_col2\" class=\"data row0 col2\" >$361.94</td>\n",
       "                        <td id=\"T_512c6988_ea62_11ea_b709_e82aea77b946row0_col3\" class=\"data row0 col3\" >$4.47</td>\n",
       "            </tr>\n",
       "            <tr>\n",
       "                        <th id=\"T_512c6988_ea62_11ea_b709_e82aea77b946level0_row1\" class=\"row_heading level0 row1\" >Male</th>\n",
       "                        <td id=\"T_512c6988_ea62_11ea_b709_e82aea77b946row1_col0\" class=\"data row1 col0\" >652</td>\n",
       "                        <td id=\"T_512c6988_ea62_11ea_b709_e82aea77b946row1_col1\" class=\"data row1 col1\" >$3.02</td>\n",
       "                        <td id=\"T_512c6988_ea62_11ea_b709_e82aea77b946row1_col2\" class=\"data row1 col2\" >$1,967.64</td>\n",
       "                        <td id=\"T_512c6988_ea62_11ea_b709_e82aea77b946row1_col3\" class=\"data row1 col3\" >$4.07</td>\n",
       "            </tr>\n",
       "            <tr>\n",
       "                        <th id=\"T_512c6988_ea62_11ea_b709_e82aea77b946level0_row2\" class=\"row_heading level0 row2\" >Other / Non-Disclosed</th>\n",
       "                        <td id=\"T_512c6988_ea62_11ea_b709_e82aea77b946row2_col0\" class=\"data row2 col0\" >15</td>\n",
       "                        <td id=\"T_512c6988_ea62_11ea_b709_e82aea77b946row2_col1\" class=\"data row2 col1\" >$3.35</td>\n",
       "                        <td id=\"T_512c6988_ea62_11ea_b709_e82aea77b946row2_col2\" class=\"data row2 col2\" >$50.19</td>\n",
       "                        <td id=\"T_512c6988_ea62_11ea_b709_e82aea77b946row2_col3\" class=\"data row2 col3\" >$4.56</td>\n",
       "            </tr>\n",
       "    </tbody></table>"
      ],
      "text/plain": [
       "<pandas.io.formats.style.Styler at 0x1cc1d3c1588>"
      ]
     },
     "execution_count": 23,
     "metadata": {},
     "output_type": "execute_result"
    }
   ],
   "source": [
    "gender_gby.count()\n",
    "gender_avgpurch = gender_gby[\"Price\"].mean()\n",
    "#gender_avgpurch\n",
    "gender_purchcount = gender_gby[\"Gender\"].count()\n",
    "#gender_purchcount\n",
    "total_value = gender_gby[\"Price\"].sum()\n",
    "#total_value\n",
    "gender_anlysis = pd.DataFrame({\"Purchase Count\":gender_purchcount, \"Average Purchase Price\":gender_avgpurch, \"Total Purchase Value\":total_value, \"Person\":gender})\n",
    "gender_anlysis\n",
    "gender_anlysis[\"AvgTotal Purchase per Person\"] = gender_anlysis[\"Total Purchase Value\"] / gender_anlysis[\"Person\"]\n",
    "gender_purch_anl=gender_anlysis[[\"Purchase Count\",\"Average Purchase Price\",\"Total Purchase Value\", \"AvgTotal Purchase per Person\"]]\n",
    "gender_purch_anl.style.format({\"Average Purchase Price\": \"${:,.2f}\", \"Total Purchase Value\":\"${:,.2f}\",\"AvgTotal Purchase per Person\":\"${:,.2f}\"})"
   ]
  },
  {
   "cell_type": "code",
   "execution_count": 24,
   "metadata": {
    "scrolled": true
   },
   "outputs": [
    {
     "data": {
      "text/html": [
       "<style  type=\"text/css\" >\n",
       "</style><table id=\"T_5130fcb8_ea62_11ea_ac61_e82aea77b946\" ><thead>    <tr>        <th class=\"blank level0\" ></th>        <th class=\"col_heading level0 col0\" >Total Count</th>        <th class=\"col_heading level0 col1\" >Percentage of Players</th>    </tr>    <tr>        <th class=\"index_name level0\" >age_range</th>        <th class=\"blank\" ></th>        <th class=\"blank\" ></th>    </tr></thead><tbody>\n",
       "                <tr>\n",
       "                        <th id=\"T_5130fcb8_ea62_11ea_ac61_e82aea77b946level0_row0\" class=\"row_heading level0 row0\" ><10</th>\n",
       "                        <td id=\"T_5130fcb8_ea62_11ea_ac61_e82aea77b946row0_col0\" class=\"data row0 col0\" >17</td>\n",
       "                        <td id=\"T_5130fcb8_ea62_11ea_ac61_e82aea77b946row0_col1\" class=\"data row0 col1\" >2.95%</td>\n",
       "            </tr>\n",
       "            <tr>\n",
       "                        <th id=\"T_5130fcb8_ea62_11ea_ac61_e82aea77b946level0_row1\" class=\"row_heading level0 row1\" >10-14</th>\n",
       "                        <td id=\"T_5130fcb8_ea62_11ea_ac61_e82aea77b946row1_col0\" class=\"data row1 col0\" >22</td>\n",
       "                        <td id=\"T_5130fcb8_ea62_11ea_ac61_e82aea77b946row1_col1\" class=\"data row1 col1\" >3.82%</td>\n",
       "            </tr>\n",
       "            <tr>\n",
       "                        <th id=\"T_5130fcb8_ea62_11ea_ac61_e82aea77b946level0_row2\" class=\"row_heading level0 row2\" >15-19</th>\n",
       "                        <td id=\"T_5130fcb8_ea62_11ea_ac61_e82aea77b946row2_col0\" class=\"data row2 col0\" >107</td>\n",
       "                        <td id=\"T_5130fcb8_ea62_11ea_ac61_e82aea77b946row2_col1\" class=\"data row2 col1\" >18.58%</td>\n",
       "            </tr>\n",
       "            <tr>\n",
       "                        <th id=\"T_5130fcb8_ea62_11ea_ac61_e82aea77b946level0_row3\" class=\"row_heading level0 row3\" >20-24</th>\n",
       "                        <td id=\"T_5130fcb8_ea62_11ea_ac61_e82aea77b946row3_col0\" class=\"data row3 col0\" >258</td>\n",
       "                        <td id=\"T_5130fcb8_ea62_11ea_ac61_e82aea77b946row3_col1\" class=\"data row3 col1\" >44.79%</td>\n",
       "            </tr>\n",
       "            <tr>\n",
       "                        <th id=\"T_5130fcb8_ea62_11ea_ac61_e82aea77b946level0_row4\" class=\"row_heading level0 row4\" >25-29</th>\n",
       "                        <td id=\"T_5130fcb8_ea62_11ea_ac61_e82aea77b946row4_col0\" class=\"data row4 col0\" >77</td>\n",
       "                        <td id=\"T_5130fcb8_ea62_11ea_ac61_e82aea77b946row4_col1\" class=\"data row4 col1\" >13.37%</td>\n",
       "            </tr>\n",
       "            <tr>\n",
       "                        <th id=\"T_5130fcb8_ea62_11ea_ac61_e82aea77b946level0_row5\" class=\"row_heading level0 row5\" >30-34</th>\n",
       "                        <td id=\"T_5130fcb8_ea62_11ea_ac61_e82aea77b946row5_col0\" class=\"data row5 col0\" >52</td>\n",
       "                        <td id=\"T_5130fcb8_ea62_11ea_ac61_e82aea77b946row5_col1\" class=\"data row5 col1\" >9.03%</td>\n",
       "            </tr>\n",
       "            <tr>\n",
       "                        <th id=\"T_5130fcb8_ea62_11ea_ac61_e82aea77b946level0_row6\" class=\"row_heading level0 row6\" >35-39</th>\n",
       "                        <td id=\"T_5130fcb8_ea62_11ea_ac61_e82aea77b946row6_col0\" class=\"data row6 col0\" >31</td>\n",
       "                        <td id=\"T_5130fcb8_ea62_11ea_ac61_e82aea77b946row6_col1\" class=\"data row6 col1\" >5.38%</td>\n",
       "            </tr>\n",
       "            <tr>\n",
       "                        <th id=\"T_5130fcb8_ea62_11ea_ac61_e82aea77b946level0_row7\" class=\"row_heading level0 row7\" >40+</th>\n",
       "                        <td id=\"T_5130fcb8_ea62_11ea_ac61_e82aea77b946row7_col0\" class=\"data row7 col0\" >12</td>\n",
       "                        <td id=\"T_5130fcb8_ea62_11ea_ac61_e82aea77b946row7_col1\" class=\"data row7 col1\" >2.08%</td>\n",
       "            </tr>\n",
       "    </tbody></table>"
      ],
      "text/plain": [
       "<pandas.io.formats.style.Styler at 0x1cc1f4ca278>"
      ]
     },
     "execution_count": 24,
     "metadata": {},
     "output_type": "execute_result"
    }
   ],
   "source": [
    "#age demographics\n",
    "#doing some binning\n",
    "age_bins=[0,9.99, 14.99, 19.99,24.99, 29.99,34.99, 39.99, 200]\n",
    "age_groups=[\"<10\", \"10-14\", \"15-19\",\"20-24\",\"25-29\",\"30-34\",\"35-39\",\"40+\"]\n",
    "\n",
    "purch_data_df[\"age_range\"] = pd.cut(purch_data_df[\"Age\"],age_bins, labels=age_groups)\n",
    "age_demo = purch_data_df.groupby(\"age_range\")\n",
    "age_count=age_demo[\"SN\"].nunique()\n",
    "age_pct=(age_count/player_count)\n",
    "age_demo_df = pd.DataFrame({\"Total Count\":age_count, \"Percentage of Players\":age_pct})\n",
    "age_demo_df.style.format({\"Percentage of Players\": \"{:,.2%}\"})\n",
    "#age_demo.head()\n",
    "\n",
    "\n"
   ]
  },
  {
   "cell_type": "code",
   "execution_count": 25,
   "metadata": {},
   "outputs": [
    {
     "data": {
      "text/html": [
       "<style  type=\"text/css\" >\n",
       "</style><table id=\"T_51384ea6_ea62_11ea_a7d7_e82aea77b946\" ><thead>    <tr>        <th class=\"blank level0\" ></th>        <th class=\"col_heading level0 col0\" >Purchase Count</th>        <th class=\"col_heading level0 col1\" >Average Purchase Price</th>        <th class=\"col_heading level0 col2\" >Total Purchase Value</th>        <th class=\"col_heading level0 col3\" >AvgTotal Purchase per Person</th>    </tr>    <tr>        <th class=\"index_name level0\" >age_range</th>        <th class=\"blank\" ></th>        <th class=\"blank\" ></th>        <th class=\"blank\" ></th>        <th class=\"blank\" ></th>    </tr></thead><tbody>\n",
       "                <tr>\n",
       "                        <th id=\"T_51384ea6_ea62_11ea_a7d7_e82aea77b946level0_row0\" class=\"row_heading level0 row0\" ><10</th>\n",
       "                        <td id=\"T_51384ea6_ea62_11ea_a7d7_e82aea77b946row0_col0\" class=\"data row0 col0\" >23</td>\n",
       "                        <td id=\"T_51384ea6_ea62_11ea_a7d7_e82aea77b946row0_col1\" class=\"data row0 col1\" >$3.35</td>\n",
       "                        <td id=\"T_51384ea6_ea62_11ea_a7d7_e82aea77b946row0_col2\" class=\"data row0 col2\" >$77.13</td>\n",
       "                        <td id=\"T_51384ea6_ea62_11ea_a7d7_e82aea77b946row0_col3\" class=\"data row0 col3\" >$4.54</td>\n",
       "            </tr>\n",
       "            <tr>\n",
       "                        <th id=\"T_51384ea6_ea62_11ea_a7d7_e82aea77b946level0_row1\" class=\"row_heading level0 row1\" >10-14</th>\n",
       "                        <td id=\"T_51384ea6_ea62_11ea_a7d7_e82aea77b946row1_col0\" class=\"data row1 col0\" >28</td>\n",
       "                        <td id=\"T_51384ea6_ea62_11ea_a7d7_e82aea77b946row1_col1\" class=\"data row1 col1\" >$2.96</td>\n",
       "                        <td id=\"T_51384ea6_ea62_11ea_a7d7_e82aea77b946row1_col2\" class=\"data row1 col2\" >$82.78</td>\n",
       "                        <td id=\"T_51384ea6_ea62_11ea_a7d7_e82aea77b946row1_col3\" class=\"data row1 col3\" >$3.76</td>\n",
       "            </tr>\n",
       "            <tr>\n",
       "                        <th id=\"T_51384ea6_ea62_11ea_a7d7_e82aea77b946level0_row2\" class=\"row_heading level0 row2\" >15-19</th>\n",
       "                        <td id=\"T_51384ea6_ea62_11ea_a7d7_e82aea77b946row2_col0\" class=\"data row2 col0\" >136</td>\n",
       "                        <td id=\"T_51384ea6_ea62_11ea_a7d7_e82aea77b946row2_col1\" class=\"data row2 col1\" >$3.04</td>\n",
       "                        <td id=\"T_51384ea6_ea62_11ea_a7d7_e82aea77b946row2_col2\" class=\"data row2 col2\" >$412.89</td>\n",
       "                        <td id=\"T_51384ea6_ea62_11ea_a7d7_e82aea77b946row2_col3\" class=\"data row2 col3\" >$3.86</td>\n",
       "            </tr>\n",
       "            <tr>\n",
       "                        <th id=\"T_51384ea6_ea62_11ea_a7d7_e82aea77b946level0_row3\" class=\"row_heading level0 row3\" >20-24</th>\n",
       "                        <td id=\"T_51384ea6_ea62_11ea_a7d7_e82aea77b946row3_col0\" class=\"data row3 col0\" >365</td>\n",
       "                        <td id=\"T_51384ea6_ea62_11ea_a7d7_e82aea77b946row3_col1\" class=\"data row3 col1\" >$3.05</td>\n",
       "                        <td id=\"T_51384ea6_ea62_11ea_a7d7_e82aea77b946row3_col2\" class=\"data row3 col2\" >$1,114.06</td>\n",
       "                        <td id=\"T_51384ea6_ea62_11ea_a7d7_e82aea77b946row3_col3\" class=\"data row3 col3\" >$4.32</td>\n",
       "            </tr>\n",
       "            <tr>\n",
       "                        <th id=\"T_51384ea6_ea62_11ea_a7d7_e82aea77b946level0_row4\" class=\"row_heading level0 row4\" >25-29</th>\n",
       "                        <td id=\"T_51384ea6_ea62_11ea_a7d7_e82aea77b946row4_col0\" class=\"data row4 col0\" >101</td>\n",
       "                        <td id=\"T_51384ea6_ea62_11ea_a7d7_e82aea77b946row4_col1\" class=\"data row4 col1\" >$2.90</td>\n",
       "                        <td id=\"T_51384ea6_ea62_11ea_a7d7_e82aea77b946row4_col2\" class=\"data row4 col2\" >$293.00</td>\n",
       "                        <td id=\"T_51384ea6_ea62_11ea_a7d7_e82aea77b946row4_col3\" class=\"data row4 col3\" >$3.81</td>\n",
       "            </tr>\n",
       "            <tr>\n",
       "                        <th id=\"T_51384ea6_ea62_11ea_a7d7_e82aea77b946level0_row5\" class=\"row_heading level0 row5\" >30-34</th>\n",
       "                        <td id=\"T_51384ea6_ea62_11ea_a7d7_e82aea77b946row5_col0\" class=\"data row5 col0\" >73</td>\n",
       "                        <td id=\"T_51384ea6_ea62_11ea_a7d7_e82aea77b946row5_col1\" class=\"data row5 col1\" >$2.93</td>\n",
       "                        <td id=\"T_51384ea6_ea62_11ea_a7d7_e82aea77b946row5_col2\" class=\"data row5 col2\" >$214.00</td>\n",
       "                        <td id=\"T_51384ea6_ea62_11ea_a7d7_e82aea77b946row5_col3\" class=\"data row5 col3\" >$4.12</td>\n",
       "            </tr>\n",
       "            <tr>\n",
       "                        <th id=\"T_51384ea6_ea62_11ea_a7d7_e82aea77b946level0_row6\" class=\"row_heading level0 row6\" >35-39</th>\n",
       "                        <td id=\"T_51384ea6_ea62_11ea_a7d7_e82aea77b946row6_col0\" class=\"data row6 col0\" >41</td>\n",
       "                        <td id=\"T_51384ea6_ea62_11ea_a7d7_e82aea77b946row6_col1\" class=\"data row6 col1\" >$3.60</td>\n",
       "                        <td id=\"T_51384ea6_ea62_11ea_a7d7_e82aea77b946row6_col2\" class=\"data row6 col2\" >$147.67</td>\n",
       "                        <td id=\"T_51384ea6_ea62_11ea_a7d7_e82aea77b946row6_col3\" class=\"data row6 col3\" >$4.76</td>\n",
       "            </tr>\n",
       "            <tr>\n",
       "                        <th id=\"T_51384ea6_ea62_11ea_a7d7_e82aea77b946level0_row7\" class=\"row_heading level0 row7\" >40+</th>\n",
       "                        <td id=\"T_51384ea6_ea62_11ea_a7d7_e82aea77b946row7_col0\" class=\"data row7 col0\" >13</td>\n",
       "                        <td id=\"T_51384ea6_ea62_11ea_a7d7_e82aea77b946row7_col1\" class=\"data row7 col1\" >$2.94</td>\n",
       "                        <td id=\"T_51384ea6_ea62_11ea_a7d7_e82aea77b946row7_col2\" class=\"data row7 col2\" >$38.24</td>\n",
       "                        <td id=\"T_51384ea6_ea62_11ea_a7d7_e82aea77b946row7_col3\" class=\"data row7 col3\" >$3.19</td>\n",
       "            </tr>\n",
       "    </tbody></table>"
      ],
      "text/plain": [
       "<pandas.io.formats.style.Styler at 0x1cc204556a0>"
      ]
     },
     "execution_count": 25,
     "metadata": {},
     "output_type": "execute_result"
    }
   ],
   "source": [
    "#age_demo.head()\n",
    "age_demo = purch_data_df.groupby(\"age_range\")\n",
    "age_purch_count = age_demo[\"Purchase ID\"].count()\n",
    "age_avg_purch = age_demo[\"Price\"].mean()\n",
    "age_total_purch = age_demo[\"Price\"].sum()\n",
    "age_anlysis = pd.DataFrame({\"Purchase Count\":age_purch_count, \"Average Purchase Price\":age_avg_purch, \"Total Purchase Value\":age_total_purch, \"Unit\": age_count})\n",
    "age_anlysis[\"AvgTotal Purchase per Person\"] = age_anlysis[\"Total Purchase Value\"] / age_anlysis[\"Unit\"]\n",
    "age_purch_anl = age_anlysis[[\"Purchase Count\",\"Average Purchase Price\",\"Total Purchase Value\", \"AvgTotal Purchase per Person\"]]\n",
    "age_purch_anl.style.format({\"Average Purchase Price\": \"${:,.2f}\", \"Total Purchase Value\":\"${:,.2f}\",\"AvgTotal Purchase per Person\":\"${:,.2f}\"})"
   ]
  },
  {
   "cell_type": "code",
   "execution_count": 26,
   "metadata": {
    "scrolled": true
   },
   "outputs": [
    {
     "data": {
      "text/html": [
       "<style  type=\"text/css\" >\n",
       "</style><table id=\"T_513e413a_ea62_11ea_93b4_e82aea77b946\" ><thead>    <tr>        <th class=\"blank level0\" ></th>        <th class=\"col_heading level0 col0\" >Purchase Count</th>        <th class=\"col_heading level0 col1\" >Average Purchase Price</th>        <th class=\"col_heading level0 col2\" >Total Purchase Value</th>    </tr>    <tr>        <th class=\"index_name level0\" >SN</th>        <th class=\"blank\" ></th>        <th class=\"blank\" ></th>        <th class=\"blank\" ></th>    </tr></thead><tbody>\n",
       "                <tr>\n",
       "                        <th id=\"T_513e413a_ea62_11ea_93b4_e82aea77b946level0_row0\" class=\"row_heading level0 row0\" >Lisosia93</th>\n",
       "                        <td id=\"T_513e413a_ea62_11ea_93b4_e82aea77b946row0_col0\" class=\"data row0 col0\" >5</td>\n",
       "                        <td id=\"T_513e413a_ea62_11ea_93b4_e82aea77b946row0_col1\" class=\"data row0 col1\" >$3.79</td>\n",
       "                        <td id=\"T_513e413a_ea62_11ea_93b4_e82aea77b946row0_col2\" class=\"data row0 col2\" >$18.96</td>\n",
       "            </tr>\n",
       "            <tr>\n",
       "                        <th id=\"T_513e413a_ea62_11ea_93b4_e82aea77b946level0_row1\" class=\"row_heading level0 row1\" >Idastidru52</th>\n",
       "                        <td id=\"T_513e413a_ea62_11ea_93b4_e82aea77b946row1_col0\" class=\"data row1 col0\" >4</td>\n",
       "                        <td id=\"T_513e413a_ea62_11ea_93b4_e82aea77b946row1_col1\" class=\"data row1 col1\" >$3.86</td>\n",
       "                        <td id=\"T_513e413a_ea62_11ea_93b4_e82aea77b946row1_col2\" class=\"data row1 col2\" >$15.45</td>\n",
       "            </tr>\n",
       "            <tr>\n",
       "                        <th id=\"T_513e413a_ea62_11ea_93b4_e82aea77b946level0_row2\" class=\"row_heading level0 row2\" >Chamjask73</th>\n",
       "                        <td id=\"T_513e413a_ea62_11ea_93b4_e82aea77b946row2_col0\" class=\"data row2 col0\" >3</td>\n",
       "                        <td id=\"T_513e413a_ea62_11ea_93b4_e82aea77b946row2_col1\" class=\"data row2 col1\" >$4.61</td>\n",
       "                        <td id=\"T_513e413a_ea62_11ea_93b4_e82aea77b946row2_col2\" class=\"data row2 col2\" >$13.83</td>\n",
       "            </tr>\n",
       "            <tr>\n",
       "                        <th id=\"T_513e413a_ea62_11ea_93b4_e82aea77b946level0_row3\" class=\"row_heading level0 row3\" >Iral74</th>\n",
       "                        <td id=\"T_513e413a_ea62_11ea_93b4_e82aea77b946row3_col0\" class=\"data row3 col0\" >4</td>\n",
       "                        <td id=\"T_513e413a_ea62_11ea_93b4_e82aea77b946row3_col1\" class=\"data row3 col1\" >$3.40</td>\n",
       "                        <td id=\"T_513e413a_ea62_11ea_93b4_e82aea77b946row3_col2\" class=\"data row3 col2\" >$13.62</td>\n",
       "            </tr>\n",
       "            <tr>\n",
       "                        <th id=\"T_513e413a_ea62_11ea_93b4_e82aea77b946level0_row4\" class=\"row_heading level0 row4\" >Iskadarya95</th>\n",
       "                        <td id=\"T_513e413a_ea62_11ea_93b4_e82aea77b946row4_col0\" class=\"data row4 col0\" >3</td>\n",
       "                        <td id=\"T_513e413a_ea62_11ea_93b4_e82aea77b946row4_col1\" class=\"data row4 col1\" >$4.37</td>\n",
       "                        <td id=\"T_513e413a_ea62_11ea_93b4_e82aea77b946row4_col2\" class=\"data row4 col2\" >$13.10</td>\n",
       "            </tr>\n",
       "    </tbody></table>"
      ],
      "text/plain": [
       "<pandas.io.formats.style.Styler at 0x1cc20455518>"
      ]
     },
     "execution_count": 26,
     "metadata": {},
     "output_type": "execute_result"
    }
   ],
   "source": [
    "sn_gby = purch_data_df.groupby([\"SN\"])\n",
    "sn_purch_count = sn_gby[\"Purchase ID\"].count()\n",
    "sn_avg_purch = sn_gby[\"Price\"].mean()\n",
    "sn_total_purch = sn_gby[\"Price\"].sum()\n",
    "sn_anlysis = pd.DataFrame({\"Purchase Count\":sn_purch_count, \"Average Purchase Price\":sn_avg_purch, \"Total Purchase Value\":sn_total_purch})\n",
    "sorted_sn_anlysis = sn_anlysis.sort_values(\"Total Purchase Value\", ascending = False)\n",
    "sorted_sn_anlysis.head(5).style.format({\"Average Purchase Price\": \"${:,.2f}\", \"Total Purchase Value\":\"${:,.2f}\"})"
   ]
  },
  {
   "cell_type": "code",
   "execution_count": 27,
   "metadata": {},
   "outputs": [
    {
     "data": {
      "text/html": [
       "<style  type=\"text/css\" >\n",
       "</style><table id=\"T_51465662_ea62_11ea_9385_e82aea77b946\" ><thead>    <tr>        <th class=\"blank\" ></th>        <th class=\"blank level0\" ></th>        <th class=\"col_heading level0 col0\" >Purchase Count</th>        <th class=\"col_heading level0 col1\" >Item Price</th>        <th class=\"col_heading level0 col2\" >Total Purchase Value</th>    </tr>    <tr>        <th class=\"index_name level0\" >Item ID</th>        <th class=\"index_name level1\" >Item Name</th>        <th class=\"blank\" ></th>        <th class=\"blank\" ></th>        <th class=\"blank\" ></th>    </tr></thead><tbody>\n",
       "                <tr>\n",
       "                        <th id=\"T_51465662_ea62_11ea_9385_e82aea77b946level0_row0\" class=\"row_heading level0 row0\" >92</th>\n",
       "                        <th id=\"T_51465662_ea62_11ea_9385_e82aea77b946level1_row0\" class=\"row_heading level1 row0\" >Final Critic</th>\n",
       "                        <td id=\"T_51465662_ea62_11ea_9385_e82aea77b946row0_col0\" class=\"data row0 col0\" >13</td>\n",
       "                        <td id=\"T_51465662_ea62_11ea_9385_e82aea77b946row0_col1\" class=\"data row0 col1\" >$4.61</td>\n",
       "                        <td id=\"T_51465662_ea62_11ea_9385_e82aea77b946row0_col2\" class=\"data row0 col2\" >$59.99</td>\n",
       "            </tr>\n",
       "            <tr>\n",
       "                        <th id=\"T_51465662_ea62_11ea_9385_e82aea77b946level0_row1\" class=\"row_heading level0 row1\" >178</th>\n",
       "                        <th id=\"T_51465662_ea62_11ea_9385_e82aea77b946level1_row1\" class=\"row_heading level1 row1\" >Oathbreaker, Last Hope of the Breaking Storm</th>\n",
       "                        <td id=\"T_51465662_ea62_11ea_9385_e82aea77b946row1_col0\" class=\"data row1 col0\" >12</td>\n",
       "                        <td id=\"T_51465662_ea62_11ea_9385_e82aea77b946row1_col1\" class=\"data row1 col1\" >$4.23</td>\n",
       "                        <td id=\"T_51465662_ea62_11ea_9385_e82aea77b946row1_col2\" class=\"data row1 col2\" >$50.76</td>\n",
       "            </tr>\n",
       "            <tr>\n",
       "                        <th id=\"T_51465662_ea62_11ea_9385_e82aea77b946level0_row2\" class=\"row_heading level0 row2\" >145</th>\n",
       "                        <th id=\"T_51465662_ea62_11ea_9385_e82aea77b946level1_row2\" class=\"row_heading level1 row2\" >Fiery Glass Crusader</th>\n",
       "                        <td id=\"T_51465662_ea62_11ea_9385_e82aea77b946row2_col0\" class=\"data row2 col0\" >9</td>\n",
       "                        <td id=\"T_51465662_ea62_11ea_9385_e82aea77b946row2_col1\" class=\"data row2 col1\" >$4.58</td>\n",
       "                        <td id=\"T_51465662_ea62_11ea_9385_e82aea77b946row2_col2\" class=\"data row2 col2\" >$41.22</td>\n",
       "            </tr>\n",
       "            <tr>\n",
       "                        <th id=\"T_51465662_ea62_11ea_9385_e82aea77b946level0_row3\" class=\"row_heading level0 row3\" >132</th>\n",
       "                        <th id=\"T_51465662_ea62_11ea_9385_e82aea77b946level1_row3\" class=\"row_heading level1 row3\" >Persuasion</th>\n",
       "                        <td id=\"T_51465662_ea62_11ea_9385_e82aea77b946row3_col0\" class=\"data row3 col0\" >9</td>\n",
       "                        <td id=\"T_51465662_ea62_11ea_9385_e82aea77b946row3_col1\" class=\"data row3 col1\" >$3.22</td>\n",
       "                        <td id=\"T_51465662_ea62_11ea_9385_e82aea77b946row3_col2\" class=\"data row3 col2\" >$28.99</td>\n",
       "            </tr>\n",
       "            <tr>\n",
       "                        <th id=\"T_51465662_ea62_11ea_9385_e82aea77b946level0_row4\" class=\"row_heading level0 row4\" >108</th>\n",
       "                        <th id=\"T_51465662_ea62_11ea_9385_e82aea77b946level1_row4\" class=\"row_heading level1 row4\" >Extraction, Quickblade Of Trembling Hands</th>\n",
       "                        <td id=\"T_51465662_ea62_11ea_9385_e82aea77b946row4_col0\" class=\"data row4 col0\" >9</td>\n",
       "                        <td id=\"T_51465662_ea62_11ea_9385_e82aea77b946row4_col1\" class=\"data row4 col1\" >$3.53</td>\n",
       "                        <td id=\"T_51465662_ea62_11ea_9385_e82aea77b946row4_col2\" class=\"data row4 col2\" >$31.77</td>\n",
       "            </tr>\n",
       "    </tbody></table>"
      ],
      "text/plain": [
       "<pandas.io.formats.style.Styler at 0x1cc204ad390>"
      ]
     },
     "execution_count": 27,
     "metadata": {},
     "output_type": "execute_result"
    }
   ],
   "source": [
    "pop_data_df = purch_data_df.loc[:,['Item ID', 'Item Name', 'Price']]\n",
    "pop_gby_df = pop_data_df.groupby(['Item ID', 'Item Name'])\n",
    "avg_item_price = pop_gby_df['Price'].mean()\n",
    "pop_count = pop_gby_df['Price'].count()\n",
    "pop_value = pop_gby_df['Price'].sum()\n",
    "pop_anlysis = pd.DataFrame({\"Purchase Count\":pop_count, \"Item Price\":avg_item_price, \"Total Purchase Value\":pop_value})\n",
    "sorted_pop_anlysis = pop_anlysis.sort_values(\"Purchase Count\", ascending = False)\n",
    "sorted_pop_anlysis.head().style.format({\"Item Price\": \"${:,.2f}\", \"Total Purchase Value\":\"${:,.2f}\"})\n"
   ]
  },
  {
   "cell_type": "code",
   "execution_count": 28,
   "metadata": {},
   "outputs": [
    {
     "data": {
      "text/html": [
       "<style  type=\"text/css\" >\n",
       "</style><table id=\"T_514a7480_ea62_11ea_91ab_e82aea77b946\" ><thead>    <tr>        <th class=\"blank\" ></th>        <th class=\"blank level0\" ></th>        <th class=\"col_heading level0 col0\" >Purchase Count</th>        <th class=\"col_heading level0 col1\" >Item Price</th>        <th class=\"col_heading level0 col2\" >Total Purchase Value</th>    </tr>    <tr>        <th class=\"index_name level0\" >Item ID</th>        <th class=\"index_name level1\" >Item Name</th>        <th class=\"blank\" ></th>        <th class=\"blank\" ></th>        <th class=\"blank\" ></th>    </tr></thead><tbody>\n",
       "                <tr>\n",
       "                        <th id=\"T_514a7480_ea62_11ea_91ab_e82aea77b946level0_row0\" class=\"row_heading level0 row0\" >92</th>\n",
       "                        <th id=\"T_514a7480_ea62_11ea_91ab_e82aea77b946level1_row0\" class=\"row_heading level1 row0\" >Final Critic</th>\n",
       "                        <td id=\"T_514a7480_ea62_11ea_91ab_e82aea77b946row0_col0\" class=\"data row0 col0\" >13</td>\n",
       "                        <td id=\"T_514a7480_ea62_11ea_91ab_e82aea77b946row0_col1\" class=\"data row0 col1\" >$4.61</td>\n",
       "                        <td id=\"T_514a7480_ea62_11ea_91ab_e82aea77b946row0_col2\" class=\"data row0 col2\" >$59.99</td>\n",
       "            </tr>\n",
       "            <tr>\n",
       "                        <th id=\"T_514a7480_ea62_11ea_91ab_e82aea77b946level0_row1\" class=\"row_heading level0 row1\" >178</th>\n",
       "                        <th id=\"T_514a7480_ea62_11ea_91ab_e82aea77b946level1_row1\" class=\"row_heading level1 row1\" >Oathbreaker, Last Hope of the Breaking Storm</th>\n",
       "                        <td id=\"T_514a7480_ea62_11ea_91ab_e82aea77b946row1_col0\" class=\"data row1 col0\" >12</td>\n",
       "                        <td id=\"T_514a7480_ea62_11ea_91ab_e82aea77b946row1_col1\" class=\"data row1 col1\" >$4.23</td>\n",
       "                        <td id=\"T_514a7480_ea62_11ea_91ab_e82aea77b946row1_col2\" class=\"data row1 col2\" >$50.76</td>\n",
       "            </tr>\n",
       "            <tr>\n",
       "                        <th id=\"T_514a7480_ea62_11ea_91ab_e82aea77b946level0_row2\" class=\"row_heading level0 row2\" >82</th>\n",
       "                        <th id=\"T_514a7480_ea62_11ea_91ab_e82aea77b946level1_row2\" class=\"row_heading level1 row2\" >Nirvana</th>\n",
       "                        <td id=\"T_514a7480_ea62_11ea_91ab_e82aea77b946row2_col0\" class=\"data row2 col0\" >9</td>\n",
       "                        <td id=\"T_514a7480_ea62_11ea_91ab_e82aea77b946row2_col1\" class=\"data row2 col1\" >$4.90</td>\n",
       "                        <td id=\"T_514a7480_ea62_11ea_91ab_e82aea77b946row2_col2\" class=\"data row2 col2\" >$44.10</td>\n",
       "            </tr>\n",
       "            <tr>\n",
       "                        <th id=\"T_514a7480_ea62_11ea_91ab_e82aea77b946level0_row3\" class=\"row_heading level0 row3\" >145</th>\n",
       "                        <th id=\"T_514a7480_ea62_11ea_91ab_e82aea77b946level1_row3\" class=\"row_heading level1 row3\" >Fiery Glass Crusader</th>\n",
       "                        <td id=\"T_514a7480_ea62_11ea_91ab_e82aea77b946row3_col0\" class=\"data row3 col0\" >9</td>\n",
       "                        <td id=\"T_514a7480_ea62_11ea_91ab_e82aea77b946row3_col1\" class=\"data row3 col1\" >$4.58</td>\n",
       "                        <td id=\"T_514a7480_ea62_11ea_91ab_e82aea77b946row3_col2\" class=\"data row3 col2\" >$41.22</td>\n",
       "            </tr>\n",
       "            <tr>\n",
       "                        <th id=\"T_514a7480_ea62_11ea_91ab_e82aea77b946level0_row4\" class=\"row_heading level0 row4\" >103</th>\n",
       "                        <th id=\"T_514a7480_ea62_11ea_91ab_e82aea77b946level1_row4\" class=\"row_heading level1 row4\" >Singed Scalpel</th>\n",
       "                        <td id=\"T_514a7480_ea62_11ea_91ab_e82aea77b946row4_col0\" class=\"data row4 col0\" >8</td>\n",
       "                        <td id=\"T_514a7480_ea62_11ea_91ab_e82aea77b946row4_col1\" class=\"data row4 col1\" >$4.35</td>\n",
       "                        <td id=\"T_514a7480_ea62_11ea_91ab_e82aea77b946row4_col2\" class=\"data row4 col2\" >$34.80</td>\n",
       "            </tr>\n",
       "    </tbody></table>"
      ],
      "text/plain": [
       "<pandas.io.formats.style.Styler at 0x1cc204de390>"
      ]
     },
     "execution_count": 28,
     "metadata": {},
     "output_type": "execute_result"
    }
   ],
   "source": [
    "resorted_pop_anlysis = pop_anlysis.sort_values(\"Total Purchase Value\", ascending = False)\n",
    "resorted_pop_anlysis.head().style.format({\"Item Price\": \"${:,.2f}\", \"Total Purchase Value\":\"${:,.2f}\"})"
   ]
  },
  {
   "cell_type": "code",
   "execution_count": null,
   "metadata": {
    "scrolled": false
   },
   "outputs": [],
   "source": [
    "\n"
   ]
  },
  {
   "cell_type": "code",
   "execution_count": null,
   "metadata": {},
   "outputs": [],
   "source": []
  }
 ],
 "metadata": {
  "kernelspec": {
   "display_name": "Python 3",
   "language": "python",
   "name": "python3"
  },
  "language_info": {
   "codemirror_mode": {
    "name": "ipython",
    "version": 3
   },
   "file_extension": ".py",
   "mimetype": "text/x-python",
   "name": "python",
   "nbconvert_exporter": "python",
   "pygments_lexer": "ipython3",
   "version": "3.6.10"
  }
 },
 "nbformat": 4,
 "nbformat_minor": 4
}
